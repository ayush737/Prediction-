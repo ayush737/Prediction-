{
 "cells": [
  {
   "cell_type": "code",
   "execution_count": 5,
   "metadata": {
    "collapsed": true
   },
   "outputs": [],
   "source": [
    "import pandas as pd\n",
    "import numpy as np\n",
    "import matplotlib.pyplot as plt"
   ]
  },
  {
   "cell_type": "code",
   "execution_count": 6,
   "metadata": {},
   "outputs": [
    {
     "data": {
      "text/html": [
       "<div>\n",
       "<style>\n",
       "    .dataframe thead tr:only-child th {\n",
       "        text-align: right;\n",
       "    }\n",
       "\n",
       "    .dataframe thead th {\n",
       "        text-align: left;\n",
       "    }\n",
       "\n",
       "    .dataframe tbody tr th {\n",
       "        vertical-align: top;\n",
       "    }\n",
       "</style>\n",
       "<table border=\"1\" class=\"dataframe\">\n",
       "  <thead>\n",
       "    <tr style=\"text-align: right;\">\n",
       "      <th></th>\n",
       "      <th>GenderCode</th>\n",
       "      <th>IntBrothers</th>\n",
       "      <th>IntSisters</th>\n",
       "      <th>IntSchoolBrothers</th>\n",
       "      <th>IntSchoolSisters</th>\n",
       "      <th>ClassSchoolStatus</th>\n",
       "      <th>Disability01</th>\n",
       "      <th>Lang1</th>\n",
       "      <th>Lang2</th>\n",
       "      <th>Lang3</th>\n",
       "      <th>Lang4</th>\n",
       "      <th>Religion</th>\n",
       "      <th>RESULT</th>\n",
       "    </tr>\n",
       "  </thead>\n",
       "  <tbody>\n",
       "    <tr>\n",
       "      <th>0</th>\n",
       "      <td>0</td>\n",
       "      <td>3</td>\n",
       "      <td>3</td>\n",
       "      <td>3</td>\n",
       "      <td>2</td>\n",
       "      <td>1</td>\n",
       "      <td>0</td>\n",
       "      <td>1</td>\n",
       "      <td>0</td>\n",
       "      <td>0</td>\n",
       "      <td>0</td>\n",
       "      <td>1</td>\n",
       "      <td>FAIL</td>\n",
       "    </tr>\n",
       "    <tr>\n",
       "      <th>1</th>\n",
       "      <td>0</td>\n",
       "      <td>4</td>\n",
       "      <td>5</td>\n",
       "      <td>1</td>\n",
       "      <td>1</td>\n",
       "      <td>1</td>\n",
       "      <td>0</td>\n",
       "      <td>1</td>\n",
       "      <td>0</td>\n",
       "      <td>0</td>\n",
       "      <td>0</td>\n",
       "      <td>1</td>\n",
       "      <td>PASS</td>\n",
       "    </tr>\n",
       "    <tr>\n",
       "      <th>2</th>\n",
       "      <td>0</td>\n",
       "      <td>5</td>\n",
       "      <td>3</td>\n",
       "      <td>0</td>\n",
       "      <td>0</td>\n",
       "      <td>1</td>\n",
       "      <td>0</td>\n",
       "      <td>1</td>\n",
       "      <td>0</td>\n",
       "      <td>0</td>\n",
       "      <td>0</td>\n",
       "      <td>1</td>\n",
       "      <td>PASS</td>\n",
       "    </tr>\n",
       "    <tr>\n",
       "      <th>3</th>\n",
       "      <td>0</td>\n",
       "      <td>2</td>\n",
       "      <td>4</td>\n",
       "      <td>1</td>\n",
       "      <td>4</td>\n",
       "      <td>1</td>\n",
       "      <td>0</td>\n",
       "      <td>1</td>\n",
       "      <td>0</td>\n",
       "      <td>0</td>\n",
       "      <td>0</td>\n",
       "      <td>1</td>\n",
       "      <td>PASS</td>\n",
       "    </tr>\n",
       "    <tr>\n",
       "      <th>4</th>\n",
       "      <td>0</td>\n",
       "      <td>2</td>\n",
       "      <td>1</td>\n",
       "      <td>0</td>\n",
       "      <td>0</td>\n",
       "      <td>1</td>\n",
       "      <td>0</td>\n",
       "      <td>1</td>\n",
       "      <td>0</td>\n",
       "      <td>0</td>\n",
       "      <td>0</td>\n",
       "      <td>1</td>\n",
       "      <td>FAIL</td>\n",
       "    </tr>\n",
       "  </tbody>\n",
       "</table>\n",
       "</div>"
      ],
      "text/plain": [
       "   GenderCode  IntBrothers  IntSisters  IntSchoolBrothers  IntSchoolSisters  \\\n",
       "0           0            3           3                  3                 2   \n",
       "1           0            4           5                  1                 1   \n",
       "2           0            5           3                  0                 0   \n",
       "3           0            2           4                  1                 4   \n",
       "4           0            2           1                  0                 0   \n",
       "\n",
       "   ClassSchoolStatus  Disability01  Lang1  Lang2  Lang3  Lang4  Religion  \\\n",
       "0                  1             0      1      0      0      0         1   \n",
       "1                  1             0      1      0      0      0         1   \n",
       "2                  1             0      1      0      0      0         1   \n",
       "3                  1             0      1      0      0      0         1   \n",
       "4                  1             0      1      0      0      0         1   \n",
       "\n",
       "  RESULT  \n",
       "0   FAIL  \n",
       "1   PASS  \n",
       "2   PASS  \n",
       "3   PASS  \n",
       "4   FAIL  "
      ]
     },
     "execution_count": 6,
     "metadata": {},
     "output_type": "execute_result"
    }
   ],
   "source": [
    "# Here you begin working on the data\n",
    "df = pd.read_excel('Data.xlsx')\n",
    "\n",
    "# Deleting the two mentioned columns from the dataframe\n",
    "df.drop('VchMotherTounge', axis=1, inplace =True)\n",
    "df.drop('MotherTongueBin', axis=1, inplace =True)\n",
    "df.head()"
   ]
  },
  {
   "cell_type": "code",
   "execution_count": 7,
   "metadata": {},
   "outputs": [
    {
     "name": "stderr",
     "output_type": "stream",
     "text": [
      "C:\\ProgramData\\Anaconda3\\lib\\site-packages\\ipykernel_launcher.py:5: SettingWithCopyWarning: \n",
      "A value is trying to be set on a copy of a slice from a DataFrame\n",
      "\n",
      "See the caveats in the documentation: http://pandas.pydata.org/pandas-docs/stable/indexing.html#indexing-view-versus-copy\n",
      "  \"\"\"\n",
      "C:\\ProgramData\\Anaconda3\\lib\\site-packages\\ipykernel_launcher.py:6: SettingWithCopyWarning: \n",
      "A value is trying to be set on a copy of a slice from a DataFrame\n",
      "\n",
      "See the caveats in the documentation: http://pandas.pydata.org/pandas-docs/stable/indexing.html#indexing-view-versus-copy\n",
      "  \n"
     ]
    },
    {
     "data": {
      "text/html": [
       "<div>\n",
       "<style>\n",
       "    .dataframe thead tr:only-child th {\n",
       "        text-align: right;\n",
       "    }\n",
       "\n",
       "    .dataframe thead th {\n",
       "        text-align: left;\n",
       "    }\n",
       "\n",
       "    .dataframe tbody tr th {\n",
       "        vertical-align: top;\n",
       "    }\n",
       "</style>\n",
       "<table border=\"1\" class=\"dataframe\">\n",
       "  <thead>\n",
       "    <tr style=\"text-align: right;\">\n",
       "      <th></th>\n",
       "      <th>GenderCode</th>\n",
       "      <th>IntBrothers</th>\n",
       "      <th>IntSisters</th>\n",
       "      <th>IntSchoolBrothers</th>\n",
       "      <th>IntSchoolSisters</th>\n",
       "      <th>ClassSchoolStatus</th>\n",
       "      <th>Disability01</th>\n",
       "      <th>Lang1</th>\n",
       "      <th>Lang2</th>\n",
       "      <th>Lang3</th>\n",
       "      <th>Lang4</th>\n",
       "      <th>Religion</th>\n",
       "    </tr>\n",
       "  </thead>\n",
       "  <tbody>\n",
       "    <tr>\n",
       "      <th>0</th>\n",
       "      <td>0</td>\n",
       "      <td>3</td>\n",
       "      <td>3</td>\n",
       "      <td>3</td>\n",
       "      <td>2</td>\n",
       "      <td>1</td>\n",
       "      <td>0</td>\n",
       "      <td>1</td>\n",
       "      <td>0</td>\n",
       "      <td>0</td>\n",
       "      <td>0</td>\n",
       "      <td>1</td>\n",
       "    </tr>\n",
       "    <tr>\n",
       "      <th>1</th>\n",
       "      <td>0</td>\n",
       "      <td>4</td>\n",
       "      <td>5</td>\n",
       "      <td>1</td>\n",
       "      <td>1</td>\n",
       "      <td>1</td>\n",
       "      <td>0</td>\n",
       "      <td>1</td>\n",
       "      <td>0</td>\n",
       "      <td>0</td>\n",
       "      <td>0</td>\n",
       "      <td>1</td>\n",
       "    </tr>\n",
       "    <tr>\n",
       "      <th>2</th>\n",
       "      <td>0</td>\n",
       "      <td>5</td>\n",
       "      <td>3</td>\n",
       "      <td>0</td>\n",
       "      <td>0</td>\n",
       "      <td>1</td>\n",
       "      <td>0</td>\n",
       "      <td>1</td>\n",
       "      <td>0</td>\n",
       "      <td>0</td>\n",
       "      <td>0</td>\n",
       "      <td>1</td>\n",
       "    </tr>\n",
       "    <tr>\n",
       "      <th>3</th>\n",
       "      <td>0</td>\n",
       "      <td>2</td>\n",
       "      <td>4</td>\n",
       "      <td>1</td>\n",
       "      <td>4</td>\n",
       "      <td>1</td>\n",
       "      <td>0</td>\n",
       "      <td>1</td>\n",
       "      <td>0</td>\n",
       "      <td>0</td>\n",
       "      <td>0</td>\n",
       "      <td>1</td>\n",
       "    </tr>\n",
       "    <tr>\n",
       "      <th>4</th>\n",
       "      <td>0</td>\n",
       "      <td>2</td>\n",
       "      <td>1</td>\n",
       "      <td>0</td>\n",
       "      <td>0</td>\n",
       "      <td>1</td>\n",
       "      <td>0</td>\n",
       "      <td>1</td>\n",
       "      <td>0</td>\n",
       "      <td>0</td>\n",
       "      <td>0</td>\n",
       "      <td>1</td>\n",
       "    </tr>\n",
       "  </tbody>\n",
       "</table>\n",
       "</div>"
      ],
      "text/plain": [
       "   GenderCode  IntBrothers  IntSisters  IntSchoolBrothers  IntSchoolSisters  \\\n",
       "0           0            3           3                  3                 2   \n",
       "1           0            4           5                  1                 1   \n",
       "2           0            5           3                  0                 0   \n",
       "3           0            2           4                  1                 4   \n",
       "4           0            2           1                  0                 0   \n",
       "\n",
       "   ClassSchoolStatus  Disability01  Lang1  Lang2  Lang3  Lang4  Religion  \n",
       "0                  1             0      1      0      0      0         1  \n",
       "1                  1             0      1      0      0      0         1  \n",
       "2                  1             0      1      0      0      0         1  \n",
       "3                  1             0      1      0      0      0         1  \n",
       "4                  1             0      1      0      0      0         1  "
      ]
     },
     "metadata": {},
     "output_type": "display_data"
    },
    {
     "data": {
      "text/plain": [
       "0    0\n",
       "1    1\n",
       "2    1\n",
       "3    1\n",
       "4    0\n",
       "Name: RESULT, dtype: object"
      ]
     },
     "metadata": {},
     "output_type": "display_data"
    }
   ],
   "source": [
    "# Slicing from main dataframe to Input Data(X) and output Data(y)\n",
    "y = df.iloc[:, 12]\n",
    "X = df.iloc[:,:12]\n",
    "# Replacng PASS and FAIL with integers 1 and 0 respectively\n",
    "y[y == 'PASS'] = 1\n",
    "y[y == 'FAIL'] = 0\n",
    "display(X.head())\n",
    "display(y.head())"
   ]
  },
  {
   "cell_type": "code",
   "execution_count": 10,
   "metadata": {},
   "outputs": [
    {
     "data": {
      "image/png": "[encoded data removed]",
      "text/plain": [
       "<matplotlib.figure.Figure at 0x76b9d83550>"
      ]
     },
     "metadata": {},
     "output_type": "display_data"
    }
   ],
   "source": [
    "b = X['GenderCode'].value_counts()\n",
    "x =  np.array(['Male', 'Female'])\n",
    "y = np.array([3552, 2057])\n",
    "plt.bar(x, y, label = 'Gender Distribution')\n",
    "plt.legend()\n",
    "#plt.hist(b, bins, histtype = 'bar', rwidth = 0.8, label = )\n",
    "plt.savefig('GenderDistribution.png')\n",
    "plt.show()"
   ]
  },
  {
   "cell_type": "code",
   "execution_count": 11,
   "metadata": {},
   "outputs": [
    {
     "data": {
      "image/png": "[encoded data removed]",
      "text/plain": [
       "<matplotlib.figure.Figure at 0x76b6b6f630>"
      ]
     },
     "metadata": {},
     "output_type": "display_data"
    }
   ],
   "source": [
    "b = X['IntBrothers'].value_counts()\n",
    "x = np.array([1, 2, 3, 4, 5, 6, 7, 8])\n",
    "y = np.array([630, 1147, 1339, 1124, 706, 394, 180, 89])\n",
    "\n",
    "plt.bar(x, y, label = 'IntBrothers')\n",
    "plt.legend()\n",
    "plt.savefig('IntBrothers.png')\n",
    "plt.show()"
   ]
  },
  {
   "cell_type": "code",
   "execution_count": 12,
   "metadata": {},
   "outputs": [
    {
     "data": {
      "image/png": "[encoded data removed]",
      "text/plain": [
       "<matplotlib.figure.Figure at 0x76b965b550>"
      ]
     },
     "metadata": {},
     "output_type": "display_data"
    }
   ],
   "source": [
    "b = X['IntSisters'].value_counts()\n",
    "x = np.array([0, 1, 2, 3, 4, 5, 6, 7, 8])\n",
    "y = np.array([232, 745, 1274, 1223, 944, 664, 324, 139, 64])\n",
    "\n",
    "plt.bar(x, y, label = 'IntSisters')\n",
    "plt.legend()\n",
    "plt.savefig('IntSisters.png')\n",
    "plt.show()"
   ]
  },
  {
   "cell_type": "code",
   "execution_count": 13,
   "metadata": {},
   "outputs": [
    {
     "data": {
      "image/png": "[encoded data removed]",
      "text/plain": [
       "<matplotlib.figure.Figure at 0x76b9d1af28>"
      ]
     },
     "metadata": {},
     "output_type": "display_data"
    }
   ],
   "source": [
    "b = X['IntSchoolBrothers'].value_counts()\n",
    "x = np.array([0, 1, 2, 3, 4, 5, 6, 7, 8])\n",
    "y = np.array([1020, 1497, 1575, 911, 416, 133, 45, 8, 4])\n",
    "\n",
    "plt.bar(x, y, label = 'IntSchoolBrothers')\n",
    "plt.legend()\n",
    "plt.savefig('IntSchoolBrothers.png')\n",
    "plt.show()"
   ]
  },
  {
   "cell_type": "code",
   "execution_count": 14,
   "metadata": {},
   "outputs": [
    {
     "data": {
      "image/png": "[encoded data removed]",
      "text/plain": [
       "<matplotlib.figure.Figure at 0x76b9350588>"
      ]
     },
     "metadata": {},
     "output_type": "display_data"
    }
   ],
   "source": [
    "b = X['IntSchoolSisters'].value_counts()\n",
    "x = np.array([0,    1,   2,    3,   4,   5,  6,  7, 8])\n",
    "y = np.array([2177 ,1417,1089, 571, 222, 96, 27, 8, 2])\n",
    "\n",
    "plt.bar(x, y, label = 'IntSchoolSisters')\n",
    "plt.legend()\n",
    "plt.savefig('IntSchoolSisters.png')\n",
    "plt.show()"
   ]
  },
  {
   "cell_type": "code",
   "execution_count": 19,
   "metadata": {},
   "outputs": [
    {
     "data": {
      "image/png": "[encoded data removed]",
      "text/plain": [
       "<matplotlib.figure.Figure at 0x76b9b8f240>"
      ]
     },
     "metadata": {},
     "output_type": "display_data"
    }
   ],
   "source": [
    "b = X['ClassSchoolStatus'].value_counts()\n",
    "x =  np.array(['School1', 'School2'])\n",
    "y = np.array([1182, 4427])\n",
    "plt.bar(x, y, label = 'ClassSchoolStatus')\n",
    "plt.legend()\n",
    "plt.savefig('ClassSchoolStatus Distribution.png')\n",
    "plt.show()"
   ]
  },
  {
   "cell_type": "code",
   "execution_count": 21,
   "metadata": {},
   "outputs": [
    {
     "data": {
      "image/png": "[encoded data removed]",
      "text/plain": [
       "<matplotlib.figure.Figure at 0x76b9c23f28>"
      ]
     },
     "metadata": {},
     "output_type": "display_data"
    }
   ],
   "source": [
    "b = X['Disability01'].value_counts()\n",
    "x =  np.array(['Disabled', 'Healthy'])\n",
    "y = np.array([61, 5548])\n",
    "plt.bar(x, y, label = 'Disabled and Healthy')\n",
    "plt.legend()\n",
    "plt.savefig('Disability Distribution.png')\n",
    "plt.show()"
   ]
  },
  {
   "cell_type": "code",
   "execution_count": 17,
   "metadata": {},
   "outputs": [
    {
     "data": {
      "image/png": "[encoded data removed]",
      "text/plain": [
       "<matplotlib.figure.Figure at 0x76b9c667b8>"
      ]
     },
     "metadata": {},
     "output_type": "display_data"
    }
   ],
   "source": [
    "x =  np.array(['Lang1', 'Lang2', 'Lang3', 'Lang4'])\n",
    "y = np.array([3011, 1795, 513, 290])\n",
    "plt.bar(x, y, label = 'Language Frequency')\n",
    "plt.legend()\n",
    "plt.savefig('Language Distribution.png')\n",
    "plt.show()"
   ]
  },
  {
   "cell_type": "code",
   "execution_count": 18,
   "metadata": {},
   "outputs": [
    {
     "data": {
      "image/png": "[encoded data removed]",
      "text/plain": [
       "<matplotlib.figure.Figure at 0x76b965ba58>"
      ]
     },
     "metadata": {},
     "output_type": "display_data"
    }
   ],
   "source": [
    "x =  np.array(['Muslim', 'Non-muslim'])\n",
    "y = np.array([5076, 533])\n",
    "plt.bar(x, y, label = 'Religion Frequency')\n",
    "plt.legend()\n",
    "plt.savefig('Religion Distribution.png')\n",
    "plt.show()"
   ]
  },
  {
   "cell_type": "code",
   "execution_count": null,
   "metadata": {
    "collapsed": true
   },
   "outputs": [],
   "source": []
  }
 ],
 "metadata": {
  "kernelspec": {
   "display_name": "Python 3",
   "language": "python",
   "name": "python3"
  },
  "language_info": {
   "codemirror_mode": {
    "name": "ipython",
    "version": 3
   },
   "file_extension": ".py",
   "mimetype": "text/x-python",
   "name": "python",
   "nbconvert_exporter": "python",
   "pygments_lexer": "ipython3",
   "version": "3.6.3"
  }
 },
 "nbformat": 4,
 "nbformat_minor": 2
}
