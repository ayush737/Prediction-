{
 "cells": [
  {
   "cell_type": "code",
   "execution_count": 1,
   "metadata": {},
   "outputs": [
    {
     "name": "stderr",
     "output_type": "stream",
     "text": [
      "C:\\ProgramData\\Anaconda3\\lib\\site-packages\\sklearn\\cross_validation.py:41: DeprecationWarning: This module was deprecated in version 0.18 in favor of the model_selection module into which all the refactored classes and functions are moved. Also note that the interface of the new CV iterators are different from that of this module. This module will be removed in 0.20.\n",
      "  \"This module will be removed in 0.20.\", DeprecationWarning)\n"
     ]
    },
    {
     "name": "stdout",
     "output_type": "stream",
     "text": [
      "Populating the interactive namespace from numpy and matplotlib\n"
     ]
    }
   ],
   "source": [
    "\"\"\"\n",
    "Authors: Abdul Samad            samad19472002@gmail.com\n",
    "         Janzaib Masood         janzaibaloch786@gmail.com\n",
    "\"\"\"\n",
    "\n",
    "import matplotlib.pyplot as plt\n",
    "import numpy as np\n",
    "import pandas as pd\n",
    "\n",
    "from sklearn.linear_model import LogisticRegression\n",
    "from sklearn.tree import DecisionTreeClassifier\n",
    "from sklearn.neighbors import KNeighborsClassifier\n",
    "from sklearn.neural_network import MLPClassifier\n",
    "from sklearn.ensemble import RandomForestClassifier\n",
    "\n",
    "from sklearn.model_selection import cross_val_score\n",
    "from sklearn.metrics import classification_report\n",
    "from sklearn.model_selection import GridSearchCV\n",
    "from sklearn.model_selection import train_test_split # ,KFold\n",
    "from sklearn.cross_validation import KFold\n",
    "\n",
    "from collections import Counter\n",
    "from imblearn.under_sampling import RandomUnderSampler, CondensedNearestNeighbour, NearMiss\n",
    "from imblearn.under_sampling import EditedNearestNeighbours, RepeatedEditedNearestNeighbours, TomekLinks\n",
    "from imblearn.over_sampling import RandomOverSampler, SMOTE\n",
    "from imblearn.combine import SMOTEENN, SMOTETomek\n",
    "from imblearn.ensemble import BalanceCascade, EasyEnsemble\n",
    "from sklearn.ensemble import AdaBoostClassifier\n",
    "import warnings\n",
    "\n",
    "warnings.filterwarnings('ignore')\n",
    "%pylab inline\n",
    "pylab.rcParams['figure.figsize'] = (12, 6)\n",
    "plt.style.use('fivethirtyeight')"
   ]
  },
  {
   "cell_type": "code",
   "execution_count": 2,
   "metadata": {},
   "outputs": [
    {
     "data": {
      "text/html": [
       "<div>\n",
       "<style>\n",
       "    .dataframe thead tr:only-child th {\n",
       "        text-align: right;\n",
       "    }\n",
       "\n",
       "    .dataframe thead th {\n",
       "        text-align: left;\n",
       "    }\n",
       "\n",
       "    .dataframe tbody tr th {\n",
       "        vertical-align: top;\n",
       "    }\n",
       "</style>\n",
       "<table border=\"1\" class=\"dataframe\">\n",
       "  <thead>\n",
       "    <tr style=\"text-align: right;\">\n",
       "      <th></th>\n",
       "      <th>GenderCode</th>\n",
       "      <th>IntBrothers</th>\n",
       "      <th>IntSisters</th>\n",
       "      <th>IntSchoolBrothers</th>\n",
       "      <th>IntSchoolSisters</th>\n",
       "      <th>ClassSchoolStatus</th>\n",
       "      <th>Disability01</th>\n",
       "      <th>Lang1</th>\n",
       "      <th>Lang2</th>\n",
       "      <th>Lang3</th>\n",
       "      <th>Lang4</th>\n",
       "      <th>Religion</th>\n",
       "      <th>RESULT</th>\n",
       "    </tr>\n",
       "  </thead>\n",
       "  <tbody>\n",
       "    <tr>\n",
       "      <th>0</th>\n",
       "      <td>0</td>\n",
       "      <td>3</td>\n",
       "      <td>3</td>\n",
       "      <td>3</td>\n",
       "      <td>2</td>\n",
       "      <td>1</td>\n",
       "      <td>0</td>\n",
       "      <td>1</td>\n",
       "      <td>0</td>\n",
       "      <td>0</td>\n",
       "      <td>0</td>\n",
       "      <td>1</td>\n",
       "      <td>FAIL</td>\n",
       "    </tr>\n",
       "    <tr>\n",
       "      <th>1</th>\n",
       "      <td>0</td>\n",
       "      <td>4</td>\n",
       "      <td>5</td>\n",
       "      <td>1</td>\n",
       "      <td>1</td>\n",
       "      <td>1</td>\n",
       "      <td>0</td>\n",
       "      <td>1</td>\n",
       "      <td>0</td>\n",
       "      <td>0</td>\n",
       "      <td>0</td>\n",
       "      <td>1</td>\n",
       "      <td>PASS</td>\n",
       "    </tr>\n",
       "    <tr>\n",
       "      <th>2</th>\n",
       "      <td>0</td>\n",
       "      <td>5</td>\n",
       "      <td>3</td>\n",
       "      <td>0</td>\n",
       "      <td>0</td>\n",
       "      <td>1</td>\n",
       "      <td>0</td>\n",
       "      <td>1</td>\n",
       "      <td>0</td>\n",
       "      <td>0</td>\n",
       "      <td>0</td>\n",
       "      <td>1</td>\n",
       "      <td>PASS</td>\n",
       "    </tr>\n",
       "    <tr>\n",
       "      <th>3</th>\n",
       "      <td>0</td>\n",
       "      <td>2</td>\n",
       "      <td>4</td>\n",
       "      <td>1</td>\n",
       "      <td>4</td>\n",
       "      <td>1</td>\n",
       "      <td>0</td>\n",
       "      <td>1</td>\n",
       "      <td>0</td>\n",
       "      <td>0</td>\n",
       "      <td>0</td>\n",
       "      <td>1</td>\n",
       "      <td>PASS</td>\n",
       "    </tr>\n",
       "    <tr>\n",
       "      <th>4</th>\n",
       "      <td>0</td>\n",
       "      <td>2</td>\n",
       "      <td>1</td>\n",
       "      <td>0</td>\n",
       "      <td>0</td>\n",
       "      <td>1</td>\n",
       "      <td>0</td>\n",
       "      <td>1</td>\n",
       "      <td>0</td>\n",
       "      <td>0</td>\n",
       "      <td>0</td>\n",
       "      <td>1</td>\n",
       "      <td>FAIL</td>\n",
       "    </tr>\n",
       "  </tbody>\n",
       "</table>\n",
       "</div>"
      ],
      "text/plain": [
       "   GenderCode  IntBrothers  IntSisters  IntSchoolBrothers  IntSchoolSisters  \\\n",
       "0           0            3           3                  3                 2   \n",
       "1           0            4           5                  1                 1   \n",
       "2           0            5           3                  0                 0   \n",
       "3           0            2           4                  1                 4   \n",
       "4           0            2           1                  0                 0   \n",
       "\n",
       "   ClassSchoolStatus  Disability01  Lang1  Lang2  Lang3  Lang4  Religion  \\\n",
       "0                  1             0      1      0      0      0         1   \n",
       "1                  1             0      1      0      0      0         1   \n",
       "2                  1             0      1      0      0      0         1   \n",
       "3                  1             0      1      0      0      0         1   \n",
       "4                  1             0      1      0      0      0         1   \n",
       "\n",
       "  RESULT  \n",
       "0   FAIL  \n",
       "1   PASS  \n",
       "2   PASS  \n",
       "3   PASS  \n",
       "4   FAIL  "
      ]
     },
     "execution_count": 2,
     "metadata": {},
     "output_type": "execute_result"
    }
   ],
   "source": [
    "# Here you begin working on the data\n",
    "df = pd.read_excel('Data.xlsx')\n",
    "\n",
    "# Deleting the two mentioned columns from the dataframe\n",
    "df.drop('VchMotherTounge', axis=1, inplace =True)\n",
    "df.drop('MotherTongueBin', axis=1, inplace =True)\n",
    "df.head()"
   ]
  },
  {
   "cell_type": "code",
   "execution_count": 3,
   "metadata": {},
   "outputs": [
    {
     "data": {
      "text/html": [
       "<div>\n",
       "<style>\n",
       "    .dataframe thead tr:only-child th {\n",
       "        text-align: right;\n",
       "    }\n",
       "\n",
       "    .dataframe thead th {\n",
       "        text-align: left;\n",
       "    }\n",
       "\n",
       "    .dataframe tbody tr th {\n",
       "        vertical-align: top;\n",
       "    }\n",
       "</style>\n",
       "<table border=\"1\" class=\"dataframe\">\n",
       "  <thead>\n",
       "    <tr style=\"text-align: right;\">\n",
       "      <th></th>\n",
       "      <th>GenderCode</th>\n",
       "      <th>IntBrothers</th>\n",
       "      <th>IntSisters</th>\n",
       "      <th>IntSchoolBrothers</th>\n",
       "      <th>IntSchoolSisters</th>\n",
       "      <th>ClassSchoolStatus</th>\n",
       "      <th>Disability01</th>\n",
       "      <th>Lang1</th>\n",
       "      <th>Lang2</th>\n",
       "      <th>Lang3</th>\n",
       "      <th>Lang4</th>\n",
       "      <th>Religion</th>\n",
       "    </tr>\n",
       "  </thead>\n",
       "  <tbody>\n",
       "    <tr>\n",
       "      <th>0</th>\n",
       "      <td>0</td>\n",
       "      <td>3</td>\n",
       "      <td>3</td>\n",
       "      <td>3</td>\n",
       "      <td>2</td>\n",
       "      <td>1</td>\n",
       "      <td>0</td>\n",
       "      <td>1</td>\n",
       "      <td>0</td>\n",
       "      <td>0</td>\n",
       "      <td>0</td>\n",
       "      <td>1</td>\n",
       "    </tr>\n",
       "    <tr>\n",
       "      <th>1</th>\n",
       "      <td>0</td>\n",
       "      <td>4</td>\n",
       "      <td>5</td>\n",
       "      <td>1</td>\n",
       "      <td>1</td>\n",
       "      <td>1</td>\n",
       "      <td>0</td>\n",
       "      <td>1</td>\n",
       "      <td>0</td>\n",
       "      <td>0</td>\n",
       "      <td>0</td>\n",
       "      <td>1</td>\n",
       "    </tr>\n",
       "    <tr>\n",
       "      <th>2</th>\n",
       "      <td>0</td>\n",
       "      <td>5</td>\n",
       "      <td>3</td>\n",
       "      <td>0</td>\n",
       "      <td>0</td>\n",
       "      <td>1</td>\n",
       "      <td>0</td>\n",
       "      <td>1</td>\n",
       "      <td>0</td>\n",
       "      <td>0</td>\n",
       "      <td>0</td>\n",
       "      <td>1</td>\n",
       "    </tr>\n",
       "    <tr>\n",
       "      <th>3</th>\n",
       "      <td>0</td>\n",
       "      <td>2</td>\n",
       "      <td>4</td>\n",
       "      <td>1</td>\n",
       "      <td>4</td>\n",
       "      <td>1</td>\n",
       "      <td>0</td>\n",
       "      <td>1</td>\n",
       "      <td>0</td>\n",
       "      <td>0</td>\n",
       "      <td>0</td>\n",
       "      <td>1</td>\n",
       "    </tr>\n",
       "    <tr>\n",
       "      <th>4</th>\n",
       "      <td>0</td>\n",
       "      <td>2</td>\n",
       "      <td>1</td>\n",
       "      <td>0</td>\n",
       "      <td>0</td>\n",
       "      <td>1</td>\n",
       "      <td>0</td>\n",
       "      <td>1</td>\n",
       "      <td>0</td>\n",
       "      <td>0</td>\n",
       "      <td>0</td>\n",
       "      <td>1</td>\n",
       "    </tr>\n",
       "  </tbody>\n",
       "</table>\n",
       "</div>"
      ],
      "text/plain": [
       "   GenderCode  IntBrothers  IntSisters  IntSchoolBrothers  IntSchoolSisters  \\\n",
       "0           0            3           3                  3                 2   \n",
       "1           0            4           5                  1                 1   \n",
       "2           0            5           3                  0                 0   \n",
       "3           0            2           4                  1                 4   \n",
       "4           0            2           1                  0                 0   \n",
       "\n",
       "   ClassSchoolStatus  Disability01  Lang1  Lang2  Lang3  Lang4  Religion  \n",
       "0                  1             0      1      0      0      0         1  \n",
       "1                  1             0      1      0      0      0         1  \n",
       "2                  1             0      1      0      0      0         1  \n",
       "3                  1             0      1      0      0      0         1  \n",
       "4                  1             0      1      0      0      0         1  "
      ]
     },
     "metadata": {},
     "output_type": "display_data"
    },
    {
     "data": {
      "text/plain": [
       "0    0\n",
       "1    1\n",
       "2    1\n",
       "3    1\n",
       "4    0\n",
       "Name: RESULT, dtype: object"
      ]
     },
     "metadata": {},
     "output_type": "display_data"
    }
   ],
   "source": [
    "# Slicing from main dataframe to Input Data(X) and output Data(y)\n",
    "y = df.iloc[:, 12]\n",
    "X = df.iloc[:,:12]\n",
    "# Replacng PASS and FAIL with integers 1 and 0 respectively\n",
    "y[y == 'PASS'] = 1\n",
    "y[y == 'FAIL'] = 0\n",
    "display(X.head())\n",
    "display(y.head())"
   ]
  },
  {
   "cell_type": "code",
   "execution_count": 4,
   "metadata": {
    "collapsed": true
   },
   "outputs": [],
   "source": [
    "a = y.values\n",
    "b = X.values\n",
    "del(y)\n",
    "del(X)\n",
    "X = []\n",
    "Y = []\n",
    "length = len(a)\n",
    "for i in range(length):\n",
    "    X.append(b[i,:])\n",
    "    Y.append(a[i])"
   ]
  },
  {
   "cell_type": "code",
   "execution_count": 5,
   "metadata": {
    "collapsed": true
   },
   "outputs": [],
   "source": [
    "dTree  = DecisionTreeClassifier()  \n",
    "logReg = LogisticRegression()\n",
    "knn    = KNeighborsClassifier(n_neighbors=5)\n",
    "rF     = RandomForestClassifier()\n",
    "MLP    = MLPClassifier()\n",
    "\n",
    "report = np.zeros((11, 5))"
   ]
  },
  {
   "cell_type": "code",
   "execution_count": 6,
   "metadata": {},
   "outputs": [
    {
     "name": "stdout",
     "output_type": "stream",
     "text": [
      "Before Resampling of the real data: \n",
      "   dTree,       logReg   ,         KNN    ,       rF   ,           MLP\n",
      "0.496118236182 0.509189781938 0.507560502765 0.502879529674 0.520390718655\n"
     ]
    }
   ],
   "source": [
    "scores_dTree = cross_val_score(dTree, X, Y, cv = 10, scoring='roc_auc')\n",
    "scores_dTree = scores_dTree.mean()\n",
    "\n",
    "scores_logReg = cross_val_score(logReg, X, Y, cv = 10, scoring='roc_auc')\n",
    "scores_logReg = scores_logReg.mean()\n",
    "\n",
    "scores_knn = cross_val_score(knn, X, Y, cv = 10, scoring='roc_auc')\n",
    "scores_knn = scores_knn.mean()\n",
    "\n",
    "scores_rF = cross_val_score(rF, X, Y, cv = 10, scoring='roc_auc')\n",
    "scores_rF = scores_rF.mean()\n",
    "\n",
    "scores_MLP = cross_val_score(MLP, X, Y, cv = 10, scoring='roc_auc')\n",
    "scores_MLP = scores_MLP.mean()\n",
    "\n",
    "print('Before Resampling of the real data: ')\n",
    "print('   dTree,       logReg   ,         KNN    ,       rF   ,           MLP')\n",
    "print(scores_dTree, scores_logReg, scores_knn, scores_rF, scores_MLP)\n",
    "\n",
    "report[0, :] = [scores_dTree, scores_logReg, scores_knn, scores_rF, scores_MLP]"
   ]
  },
  {
   "cell_type": "code",
   "execution_count": 7,
   "metadata": {},
   "outputs": [
    {
     "name": "stdout",
     "output_type": "stream",
     "text": [
      "After applying Random Undersampling: \n",
      "   dTree,       logReg   ,         KNN    ,       rF   ,           MLP\n",
      "0.440418957302 0.331147400257 0.469818712766 0.422817970605 0.372000093504\n"
     ]
    }
   ],
   "source": [
    "# Let's try Random Undersampling\n",
    "rmun = RandomUnderSampler()\n",
    "X_resampled, Y_resampled = rmun.fit_sample(X, Y)\n",
    "\n",
    "scores_dTree = cross_val_score(dTree, X_resampled, Y_resampled, cv = 10, scoring='roc_auc')\n",
    "scores_dTree = scores_dTree.mean()\n",
    "\n",
    "scores_logReg = cross_val_score(logReg, X_resampled, Y_resampled, cv = 10, scoring='roc_auc')\n",
    "scores_logReg = scores_logReg.mean()\n",
    "\n",
    "scores_knn = cross_val_score(knn, X_resampled, Y_resampled, cv = 10, scoring='roc_auc')\n",
    "scores_knn = scores_knn.mean()\n",
    "\n",
    "scores_rF = cross_val_score(rF, X_resampled, Y_resampled, cv = 10, scoring='roc_auc')\n",
    "scores_rF = scores_rF.mean()\n",
    "\n",
    "scores_MLP = cross_val_score(MLP, X_resampled, Y_resampled, cv = 10, scoring='roc_auc')\n",
    "scores_MLP = scores_MLP.mean()\n",
    "\n",
    "print('After applying Random Undersampling: ')\n",
    "print('   dTree,       logReg   ,         KNN    ,       rF   ,           MLP')\n",
    "print(scores_dTree, scores_logReg, scores_knn, scores_rF, scores_MLP)\n",
    "\n",
    "report[1, :] = [scores_dTree, scores_logReg, scores_knn, scores_rF, scores_MLP]"
   ]
  },
  {
   "cell_type": "code",
   "execution_count": 8,
   "metadata": {},
   "outputs": [
    {
     "name": "stdout",
     "output_type": "stream",
     "text": [
      "After applying Condensed Nearest Neighbours: \n",
      "   dTree,       logReg   ,         KNN    ,       rF   ,           MLP\n",
      "0.329966994795 0.416988281076 0.358006155606 0.281350828584 0.408957361875\n"
     ]
    }
   ],
   "source": [
    "# Let's try Condensed Nearest Neighbour\n",
    "cnn = CondensedNearestNeighbour()\n",
    "X_resampled, Y_resampled = cnn.fit_sample(X, Y)\n",
    "\n",
    "scores_dTree = cross_val_score(dTree, X_resampled, Y_resampled, cv = 10, scoring='roc_auc')\n",
    "scores_dTree = scores_dTree.mean()\n",
    "\n",
    "scores_logReg = cross_val_score(logReg, X_resampled, Y_resampled, cv = 10, scoring='roc_auc')\n",
    "scores_logReg = scores_logReg.mean()\n",
    "\n",
    "scores_knn = cross_val_score(knn, X_resampled, Y_resampled, cv = 10, scoring='roc_auc')\n",
    "scores_knn = scores_knn.mean()\n",
    "\n",
    "scores_rF = cross_val_score(rF, X_resampled, Y_resampled, cv = 10, scoring='roc_auc')\n",
    "scores_rF = scores_rF.mean()\n",
    "\n",
    "scores_MLP = cross_val_score(MLP, X_resampled, Y_resampled, cv = 10, scoring='roc_auc')\n",
    "scores_MLP = scores_MLP.mean()\n",
    "\n",
    "print('After applying Condensed Nearest Neighbours: ')\n",
    "print('   dTree,       logReg   ,         KNN    ,       rF   ,           MLP')\n",
    "print(scores_dTree, scores_logReg, scores_knn, scores_rF, scores_MLP)\n",
    "\n",
    "report[2, :] = [scores_dTree, scores_logReg, scores_knn, scores_rF, scores_MLP]"
   ]
  },
  {
   "cell_type": "code",
   "execution_count": 9,
   "metadata": {},
   "outputs": [
    {
     "name": "stdout",
     "output_type": "stream",
     "text": [
      "After applying NearMiss: \n",
      "   dTree,       logReg   ,         KNN    ,       rF   ,           MLP\n",
      "0.424171430332 0.617305627256 0.489123468717 0.449867503338 0.673992059718\n"
     ]
    }
   ],
   "source": [
    "# Let's try NearMiss\n",
    "nm = NearMiss()\n",
    "X_resampled, Y_resampled = nm.fit_sample(X, Y)\n",
    "\n",
    "scores_dTree = cross_val_score(dTree, X_resampled, Y_resampled, cv = 10, scoring='roc_auc')\n",
    "scores_dTree = scores_dTree.mean()\n",
    "\n",
    "scores_logReg = cross_val_score(logReg, X_resampled, Y_resampled, cv = 10, scoring='roc_auc')\n",
    "scores_logReg = scores_logReg.mean()\n",
    "\n",
    "scores_knn = cross_val_score(knn, X_resampled, Y_resampled, cv = 10, scoring='roc_auc')\n",
    "scores_knn = scores_knn.mean()\n",
    "\n",
    "scores_rF = cross_val_score(rF, X_resampled, Y_resampled, cv = 10, scoring='roc_auc')\n",
    "scores_rF = scores_rF.mean()\n",
    "\n",
    "scores_MLP = cross_val_score(MLP, X_resampled, Y_resampled, cv = 10, scoring='roc_auc')\n",
    "scores_MLP = scores_MLP.mean()\n",
    "\n",
    "print('After applying NearMiss: ')\n",
    "print('   dTree,       logReg   ,         KNN    ,       rF   ,           MLP')\n",
    "print(scores_dTree, scores_logReg, scores_knn, scores_rF, scores_MLP)\n",
    "\n",
    "report[3, :] = [scores_dTree, scores_logReg, scores_knn, scores_rF, scores_MLP]"
   ]
  },
  {
   "cell_type": "code",
   "execution_count": 10,
   "metadata": {},
   "outputs": [
    {
     "name": "stdout",
     "output_type": "stream",
     "text": [
      "After applying Edited Nearest Neighbours: \n",
      "   dTree,       logReg   ,         KNN    ,       rF   ,           MLP\n",
      "0.666049926896 0.524898561075 0.668403219136 0.730359548926 0.572032118737\n"
     ]
    }
   ],
   "source": [
    "# Let's try Edited Nearest Neighbour\n",
    "enn = EditedNearestNeighbours()\n",
    "X_resampled, Y_resampled = enn.fit_sample(X, Y)\n",
    "\n",
    "scores_dTree = cross_val_score(dTree, X_resampled, Y_resampled, cv = 10, scoring='roc_auc')\n",
    "scores_dTree = scores_dTree.mean()\n",
    "\n",
    "scores_logReg = cross_val_score(logReg, X_resampled, Y_resampled, cv = 10, scoring='roc_auc')\n",
    "scores_logReg = scores_logReg.mean()\n",
    "\n",
    "scores_knn = cross_val_score(knn, X_resampled, Y_resampled, cv = 10, scoring='roc_auc')\n",
    "scores_knn = scores_knn.mean()\n",
    "\n",
    "scores_rF = cross_val_score(rF, X_resampled, Y_resampled, cv = 10, scoring='roc_auc')\n",
    "scores_rF = scores_rF.mean()\n",
    "\n",
    "scores_MLP = cross_val_score(MLP, X_resampled, Y_resampled, cv = 10, scoring='roc_auc')\n",
    "scores_MLP = scores_MLP.mean()\n",
    "\n",
    "print('After applying Edited Nearest Neighbours: ')\n",
    "print('   dTree,       logReg   ,         KNN    ,       rF   ,           MLP')\n",
    "print(scores_dTree, scores_logReg, scores_knn, scores_rF, scores_MLP)\n",
    "\n",
    "report[4, :] = [scores_dTree, scores_logReg, scores_knn, scores_rF, scores_MLP]"
   ]
  },
  {
   "cell_type": "code",
   "execution_count": 11,
   "metadata": {},
   "outputs": [
    {
     "name": "stdout",
     "output_type": "stream",
     "text": [
      "After applying Repeated Edited Nearest Neighbours: \n",
      "   dTree,       logReg   ,         KNN    ,       rF   ,           MLP\n",
      "0.834828585654 0.527254436502 0.860550606352 0.924528077101 0.690397862655\n"
     ]
    }
   ],
   "source": [
    "# Let's try Repeated Edited Nearest Neighbour\n",
    "renn = RepeatedEditedNearestNeighbours()\n",
    "X_resampled, Y_resampled = renn.fit_sample(X, Y)\n",
    "\n",
    "scores_dTree = cross_val_score(dTree, X_resampled, Y_resampled, cv = 10, scoring='roc_auc')\n",
    "scores_dTree = scores_dTree.mean()\n",
    "\n",
    "scores_logReg = cross_val_score(logReg, X_resampled, Y_resampled, cv = 10, scoring='roc_auc')\n",
    "scores_logReg = scores_logReg.mean()\n",
    "\n",
    "scores_knn = cross_val_score(knn, X_resampled, Y_resampled, cv = 10, scoring='roc_auc')\n",
    "scores_knn = scores_knn.mean()\n",
    "\n",
    "scores_rF = cross_val_score(rF, X_resampled, Y_resampled, cv = 10, scoring='roc_auc')\n",
    "scores_rF = scores_rF.mean()\n",
    "\n",
    "scores_MLP = cross_val_score(MLP, X_resampled, Y_resampled, cv = 10, scoring='roc_auc')\n",
    "scores_MLP = scores_MLP.mean()\n",
    "\n",
    "print('After applying Repeated Edited Nearest Neighbours: ')\n",
    "print('   dTree,       logReg   ,         KNN    ,       rF   ,           MLP')\n",
    "print(scores_dTree, scores_logReg, scores_knn, scores_rF, scores_MLP)\n",
    "\n",
    "report[5, :] = [scores_dTree, scores_logReg, scores_knn, scores_rF, scores_MLP]"
   ]
  },
  {
   "cell_type": "code",
   "execution_count": 12,
   "metadata": {},
   "outputs": [
    {
     "name": "stdout",
     "output_type": "stream",
     "text": [
      "After applying Tomek Link Removal: \n",
      "   dTree,       logReg   ,         KNN    ,       rF   ,           MLP\n",
      "0.489380571853 0.511774231686 0.505590188824 0.513475205185 0.516573739323\n"
     ]
    }
   ],
   "source": [
    "# Let's try Tomek Link Removal\n",
    "tkLink = TomekLinks()\n",
    "X_resampled, Y_resampled = tkLink.fit_sample(X, Y)\n",
    "\n",
    "scores_dTree = cross_val_score(dTree, X_resampled, Y_resampled, cv = 10, scoring='roc_auc')\n",
    "scores_dTree = scores_dTree.mean()\n",
    "\n",
    "scores_logReg = cross_val_score(logReg, X_resampled, Y_resampled, cv = 10, scoring='roc_auc')\n",
    "scores_logReg = scores_logReg.mean()\n",
    "\n",
    "scores_knn = cross_val_score(knn, X_resampled, Y_resampled, cv = 10, scoring='roc_auc')\n",
    "scores_knn = scores_knn.mean()\n",
    "\n",
    "scores_rF = cross_val_score(rF, X_resampled, Y_resampled, cv = 10, scoring='roc_auc')\n",
    "scores_rF = scores_rF.mean()\n",
    "\n",
    "scores_MLP = cross_val_score(MLP, X_resampled, Y_resampled, cv = 10, scoring='roc_auc')\n",
    "scores_MLP = scores_MLP.mean()\n",
    "\n",
    "print('After applying Tomek Link Removal: ')\n",
    "print('   dTree,       logReg   ,         KNN    ,       rF   ,           MLP')\n",
    "print(scores_dTree, scores_logReg, scores_knn, scores_rF, scores_MLP)\n",
    "\n",
    "report[6, :] = [scores_dTree, scores_logReg, scores_knn, scores_rF, scores_MLP]"
   ]
  },
  {
   "cell_type": "code",
   "execution_count": 13,
   "metadata": {},
   "outputs": [
    {
     "name": "stdout",
     "output_type": "stream",
     "text": [
      "After applying Random Oversampling: \n",
      "   dTree,       logReg   ,         KNN    ,       rF   ,           MLP\n",
      "0.728201154438 0.364267993757 0.718269040433 0.761615005177 0.505113149904\n"
     ]
    }
   ],
   "source": [
    "# Let's try Random Oversampling\n",
    "rmov = RandomOverSampler()\n",
    "X_resampled, Y_resampled = rmov.fit_sample(X, Y)\n",
    "\n",
    "scores_dTree = cross_val_score(dTree, X_resampled, Y_resampled, cv = 10, scoring='roc_auc')\n",
    "scores_dTree = scores_dTree.mean()\n",
    "\n",
    "scores_logReg = cross_val_score(logReg, X_resampled, Y_resampled, cv = 10, scoring='roc_auc')\n",
    "scores_logReg = scores_logReg.mean()\n",
    "\n",
    "scores_knn = cross_val_score(knn, X_resampled, Y_resampled, cv = 10, scoring='roc_auc')\n",
    "scores_knn = scores_knn.mean()\n",
    "\n",
    "scores_rF = cross_val_score(rF, X_resampled, Y_resampled, cv = 10, scoring='roc_auc')\n",
    "scores_rF = scores_rF.mean()\n",
    "\n",
    "scores_MLP = cross_val_score(MLP, X_resampled, Y_resampled, cv = 10, scoring='roc_auc')\n",
    "scores_MLP = scores_MLP.mean()\n",
    "\n",
    "print('After applying Random Oversampling: ')\n",
    "print('   dTree,       logReg   ,         KNN    ,       rF   ,           MLP')\n",
    "print(scores_dTree, scores_logReg, scores_knn, scores_rF, scores_MLP)\n",
    "\n",
    "report[7, :] = [scores_dTree, scores_logReg, scores_knn, scores_rF, scores_MLP]"
   ]
  },
  {
   "cell_type": "code",
   "execution_count": 14,
   "metadata": {},
   "outputs": [
    {
     "name": "stdout",
     "output_type": "stream",
     "text": [
      "After appling SMOTE: \n",
      "   dTree,       logReg   ,         KNN    ,       rF   ,           MLP\n",
      "0.758341629332 0.35919774308 0.735444182694 0.803596405113 0.543419398933\n"
     ]
    }
   ],
   "source": [
    "# Let's try SMOTE\n",
    "sm = SMOTE(ratio = 'auto', kind = 'regular')\n",
    "X_resampled, Y_resampled = sm.fit_sample(X, Y)\n",
    "\n",
    "scores_dTree = cross_val_score(dTree, X_resampled, Y_resampled, cv = 10, scoring='roc_auc')\n",
    "scores_dTree = scores_dTree.mean()\n",
    "\n",
    "scores_logReg = cross_val_score(logReg, X_resampled, Y_resampled, cv = 10, scoring='roc_auc')\n",
    "scores_logReg = scores_logReg.mean()\n",
    "\n",
    "scores_knn = cross_val_score(knn, X_resampled, Y_resampled, cv = 10, scoring='roc_auc')\n",
    "scores_knn = scores_knn.mean()\n",
    "\n",
    "scores_rF = cross_val_score(rF, X_resampled, Y_resampled, cv = 10, scoring='roc_auc')\n",
    "scores_rF = scores_rF.mean()\n",
    "\n",
    "scores_MLP = cross_val_score(MLP, X_resampled, Y_resampled, cv = 10, scoring='roc_auc')\n",
    "scores_MLP = scores_MLP.mean()\n",
    "\n",
    "print('After appling SMOTE: ')\n",
    "print('   dTree,       logReg   ,         KNN    ,       rF   ,           MLP')\n",
    "print(scores_dTree, scores_logReg, scores_knn, scores_rF, scores_MLP)\n",
    "\n",
    "report[8, :] = [scores_dTree, scores_logReg, scores_knn, scores_rF, scores_MLP]"
   ]
  },
  {
   "cell_type": "code",
   "execution_count": 15,
   "metadata": {},
   "outputs": [
    {
     "name": "stdout",
     "output_type": "stream",
     "text": [
      "After appling SMOTENN: \n",
      "   dTree,       logReg   ,         KNN    ,       rF   ,           MLP\n",
      "0.862706378957 0.514447562415 0.943193804728 0.938768589303 0.698833294054\n"
     ]
    }
   ],
   "source": [
    "# Let's try SMOTENN\n",
    "sm_en = SMOTEENN()\n",
    "X_resampled, Y_resampled = sm_en.fit_sample(X, Y)\n",
    "\n",
    "scores_dTree = cross_val_score(dTree, X_resampled, Y_resampled, cv = 10, scoring='roc_auc')\n",
    "scores_dTree = scores_dTree.mean()\n",
    "\n",
    "scores_logReg = cross_val_score(logReg, X_resampled, Y_resampled, cv = 10, scoring='roc_auc')\n",
    "scores_logReg = scores_logReg.mean()\n",
    "\n",
    "scores_knn = cross_val_score(knn, X_resampled, Y_resampled, cv = 10, scoring='roc_auc')\n",
    "scores_knn = scores_knn.mean()\n",
    "\n",
    "scores_rF = cross_val_score(rF, X_resampled, Y_resampled, cv = 10, scoring='roc_auc')\n",
    "scores_rF = scores_rF.mean()\n",
    "\n",
    "scores_MLP = cross_val_score(MLP, X_resampled, Y_resampled, cv = 10, scoring='roc_auc')\n",
    "scores_MLP = scores_MLP.mean()\n",
    "\n",
    "print('After appling SMOTENN: ')\n",
    "print('   dTree,       logReg   ,         KNN    ,       rF   ,           MLP')\n",
    "print(scores_dTree, scores_logReg, scores_knn, scores_rF, scores_MLP)\n",
    "\n",
    "report[9, :] = [scores_dTree, scores_logReg, scores_knn, scores_rF, scores_MLP]"
   ]
  },
  {
   "cell_type": "code",
   "execution_count": 16,
   "metadata": {},
   "outputs": [
    {
     "name": "stdout",
     "output_type": "stream",
     "text": [
      "After appling SMOTE+Tomek Link Removal: \n",
      "   dTree,       logReg   ,         KNN    ,       rF   ,           MLP\n",
      "0.754451660936 0.341385118177 0.734714382767 0.798183195368 0.504264858649\n"
     ]
    }
   ],
   "source": [
    "# Let's try SMOTE+Tomek Link removal\n",
    "sm_tk = SMOTETomek()\n",
    "X_resampled, Y_resampled = sm_tk.fit_sample(X, Y)\n",
    "\n",
    "scores_dTree = cross_val_score(dTree, X_resampled, Y_resampled, cv = 10, scoring='roc_auc')\n",
    "scores_dTree = scores_dTree.mean()\n",
    "\n",
    "scores_logReg = cross_val_score(logReg, X_resampled, Y_resampled, cv = 10, scoring='roc_auc')\n",
    "scores_logReg = scores_logReg.mean()\n",
    "\n",
    "scores_knn = cross_val_score(knn, X_resampled, Y_resampled, cv = 10, scoring='roc_auc')\n",
    "scores_knn = scores_knn.mean()\n",
    "\n",
    "scores_rF = cross_val_score(rF, X_resampled, Y_resampled, cv = 10, scoring='roc_auc')\n",
    "scores_rF = scores_rF.mean()\n",
    "\n",
    "scores_MLP = cross_val_score(MLP, X_resampled, Y_resampled, cv = 10, scoring='roc_auc')\n",
    "scores_MLP = scores_MLP.mean()\n",
    "\n",
    "print('After appling SMOTE+Tomek Link Removal: ')\n",
    "print('   dTree,       logReg   ,         KNN    ,       rF   ,           MLP')\n",
    "print(scores_dTree, scores_logReg, scores_knn, scores_rF, scores_MLP)\n",
    "\n",
    "report[10, :] = [scores_dTree, scores_logReg, scores_knn, scores_rF, scores_MLP]"
   ]
  },
  {
   "cell_type": "code",
   "execution_count": 17,
   "metadata": {},
   "outputs": [
    {
     "name": "stdout",
     "output_type": "stream",
     "text": [
      "[ 0.49611824  0.44041896  0.32996699  0.42417143  0.66604993  0.83482859\n",
      "  0.48938057  0.72820115  0.75834163  0.86270638  0.75445166]\n"
     ]
    },
    {
     "data": {
      "text/plain": [
       "(5, 11)"
      ]
     },
     "execution_count": 17,
     "metadata": {},
     "output_type": "execute_result"
    }
   ],
   "source": [
    "report = np.transpose(report)\n",
    "\n",
    "print(report[0,:])\n",
    "report.shape"
   ]
  },
  {
   "cell_type": "code",
   "execution_count": 18,
   "metadata": {},
   "outputs": [
    {
     "data": {
      "text/html": [
       "<div>\n",
       "<style>\n",
       "    .dataframe thead tr:only-child th {\n",
       "        text-align: right;\n",
       "    }\n",
       "\n",
       "    .dataframe thead th {\n",
       "        text-align: left;\n",
       "    }\n",
       "\n",
       "    .dataframe tbody tr th {\n",
       "        vertical-align: top;\n",
       "    }\n",
       "</style>\n",
       "<table border=\"1\" class=\"dataframe\">\n",
       "  <thead>\n",
       "    <tr style=\"text-align: right;\">\n",
       "      <th></th>\n",
       "      <th>None</th>\n",
       "      <th>Random Undersampling</th>\n",
       "      <th>CNN</th>\n",
       "      <th>NearMiss</th>\n",
       "      <th>ENN</th>\n",
       "      <th>RENN</th>\n",
       "      <th>Tomek Links</th>\n",
       "      <th>SMOTE</th>\n",
       "      <th>Random Oversampling</th>\n",
       "      <th>SMOTEENN</th>\n",
       "      <th>SMOTETomek</th>\n",
       "    </tr>\n",
       "  </thead>\n",
       "  <tbody>\n",
       "    <tr>\n",
       "      <th>DecisionTreeClassifier</th>\n",
       "      <td>0.496118</td>\n",
       "      <td>0.440419</td>\n",
       "      <td>0.329967</td>\n",
       "      <td>0.424171</td>\n",
       "      <td>0.666050</td>\n",
       "      <td>0.834829</td>\n",
       "      <td>0.489381</td>\n",
       "      <td>0.728201</td>\n",
       "      <td>0.758342</td>\n",
       "      <td>0.862706</td>\n",
       "      <td>0.754452</td>\n",
       "    </tr>\n",
       "    <tr>\n",
       "      <th>LogisticRegression</th>\n",
       "      <td>0.509190</td>\n",
       "      <td>0.331147</td>\n",
       "      <td>0.416988</td>\n",
       "      <td>0.617306</td>\n",
       "      <td>0.524899</td>\n",
       "      <td>0.527254</td>\n",
       "      <td>0.511774</td>\n",
       "      <td>0.364268</td>\n",
       "      <td>0.359198</td>\n",
       "      <td>0.514448</td>\n",
       "      <td>0.341385</td>\n",
       "    </tr>\n",
       "    <tr>\n",
       "      <th>KNeighborsClassifier</th>\n",
       "      <td>0.507561</td>\n",
       "      <td>0.469819</td>\n",
       "      <td>0.358006</td>\n",
       "      <td>0.489123</td>\n",
       "      <td>0.668403</td>\n",
       "      <td>0.860551</td>\n",
       "      <td>0.505590</td>\n",
       "      <td>0.718269</td>\n",
       "      <td>0.735444</td>\n",
       "      <td>0.943194</td>\n",
       "      <td>0.734714</td>\n",
       "    </tr>\n",
       "    <tr>\n",
       "      <th>RandomForestClassifier</th>\n",
       "      <td>0.502880</td>\n",
       "      <td>0.422818</td>\n",
       "      <td>0.281351</td>\n",
       "      <td>0.449868</td>\n",
       "      <td>0.730360</td>\n",
       "      <td>0.924528</td>\n",
       "      <td>0.513475</td>\n",
       "      <td>0.761615</td>\n",
       "      <td>0.803596</td>\n",
       "      <td>0.938769</td>\n",
       "      <td>0.798183</td>\n",
       "    </tr>\n",
       "    <tr>\n",
       "      <th>MLPClassifier</th>\n",
       "      <td>0.520391</td>\n",
       "      <td>0.372000</td>\n",
       "      <td>0.408957</td>\n",
       "      <td>0.673992</td>\n",
       "      <td>0.572032</td>\n",
       "      <td>0.690398</td>\n",
       "      <td>0.516574</td>\n",
       "      <td>0.505113</td>\n",
       "      <td>0.543419</td>\n",
       "      <td>0.698833</td>\n",
       "      <td>0.504265</td>\n",
       "    </tr>\n",
       "  </tbody>\n",
       "</table>\n",
       "</div>"
      ],
      "text/plain": [
       "                            None  Random Undersampling       CNN  NearMiss  \\\n",
       "DecisionTreeClassifier  0.496118              0.440419  0.329967  0.424171   \n",
       "LogisticRegression      0.509190              0.331147  0.416988  0.617306   \n",
       "KNeighborsClassifier    0.507561              0.469819  0.358006  0.489123   \n",
       "RandomForestClassifier  0.502880              0.422818  0.281351  0.449868   \n",
       "MLPClassifier           0.520391              0.372000  0.408957  0.673992   \n",
       "\n",
       "                             ENN      RENN  Tomek Links     SMOTE  \\\n",
       "DecisionTreeClassifier  0.666050  0.834829     0.489381  0.728201   \n",
       "LogisticRegression      0.524899  0.527254     0.511774  0.364268   \n",
       "KNeighborsClassifier    0.668403  0.860551     0.505590  0.718269   \n",
       "RandomForestClassifier  0.730360  0.924528     0.513475  0.761615   \n",
       "MLPClassifier           0.572032  0.690398     0.516574  0.505113   \n",
       "\n",
       "                        Random Oversampling  SMOTEENN  SMOTETomek  \n",
       "DecisionTreeClassifier             0.758342  0.862706    0.754452  \n",
       "LogisticRegression                 0.359198  0.514448    0.341385  \n",
       "KNeighborsClassifier               0.735444  0.943194    0.734714  \n",
       "RandomForestClassifier             0.803596  0.938769    0.798183  \n",
       "MLPClassifier                      0.543419  0.698833    0.504265  "
      ]
     },
     "execution_count": 18,
     "metadata": {},
     "output_type": "execute_result"
    }
   ],
   "source": [
    "Classifiers = ['DecisionTreeClassifier', 'LogisticRegression', 'KNeighborsClassifier', 'RandomForestClassifier',  'MLPClassifier']\n",
    "Samplers = ['None','Random Undersampling', 'CNN', 'NearMiss', 'ENN', 'RENN','Tomek Links','SMOTE', 'Random Oversampling', 'SMOTEENN','SMOTETomek']\n",
    "\n",
    "#del(df)\n",
    "df = pd.DataFrame(report, columns = Samplers, index = Classifiers)\n",
    "df"
   ]
  },
  {
   "cell_type": "code",
   "execution_count": 19,
   "metadata": {},
   "outputs": [
    {
     "data": {
      "image/png": "[encoded data removed]",
      "text/plain": [
       "<matplotlib.figure.Figure at 0xfeb523048>"
      ]
     },
     "metadata": {},
     "output_type": "display_data"
    }
   ],
   "source": [
    "import seaborn as sns\n",
    "plt.figure()\n",
    "ax = sns.heatmap(report,xticklabels=Samplers, yticklabels=Classifiers, annot = True, vmin=0, vmax=1, linewidth=0.1, cmap=\"YlGnBu\",)\n",
    "plt.savefig(\"output.png\")"
   ]
  }
 ],
 "metadata": {
  "kernelspec": {
   "display_name": "Python 3",
   "language": "python",
   "name": "python3"
  },
  "language_info": {
   "codemirror_mode": {
    "name": "ipython",
    "version": 3
   },
   "file_extension": ".py",
   "mimetype": "text/x-python",
   "name": "python",
   "nbconvert_exporter": "python",
   "pygments_lexer": "ipython3",
   "version": "3.6.3"
  }
 },
 "nbformat": 4,
 "nbformat_minor": 2
}
